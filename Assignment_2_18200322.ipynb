{
 "cells": [
  {
   "cell_type": "markdown",
   "metadata": {
    "ExecuteTime": {
     "end_time": "2019-05-03T11:49:12.617738Z",
     "start_time": "2019-05-03T11:48:35.180796Z"
    }
   },
   "source": [
    "##               COMP47670 Assignment 2: Text Classification\n",
    "\n",
    "### Name: Keerthi Prasad Ganganna\n",
    "### Student ID: 18200322"
   ]
  },
  {
   "cell_type": "code",
   "execution_count": 1,
   "metadata": {
    "ExecuteTime": {
     "end_time": "2019-05-03T14:53:13.348587Z",
     "start_time": "2019-05-03T14:53:07.487235Z"
    }
   },
   "outputs": [],
   "source": [
    "# import neccessary libraries\n",
    "import re\n",
    "import pandas as pd\n",
    "import requests\n",
    "import nltk\n",
    "from nltk.corpus import stopwords\n",
    "from bs4 import BeautifulSoup\n",
    "from nltk.stem import WordNetLemmatizer \n",
    "from sklearn.feature_extraction.text import CountVectorizer \n",
    "from sklearn.model_selection import train_test_split\n",
    "from sklearn.metrics import accuracy_score\n",
    "from sklearn import metrics\n",
    "from sklearn.ensemble import RandomForestClassifier\n",
    "\n",
    "from sklearn.model_selection import GridSearchCV\n",
    "from sklearn import svm\n",
    "import matplotlib.pyplot as plt; plt.rcdefaults()\n",
    "import numpy as np\n",
    "import matplotlib.pyplot as plt\n",
    "\n",
    "base_url=\"http://mlg.ucd.ie/modules/yalp/\"\n",
    "\n",
    "#nltk.download('wordnet')"
   ]
  },
  {
   "cell_type": "markdown",
   "metadata": {},
   "source": [
    "### Task1 : Select two review categories of your choice. Scrape all reviews for each category and store them as two separate datasets. \n"
   ]
  },
  {
   "cell_type": "code",
   "execution_count": 2,
   "metadata": {
    "ExecuteTime": {
     "end_time": "2019-05-03T14:53:13.386599Z",
     "start_time": "2019-05-03T14:53:13.351723Z"
    }
   },
   "outputs": [],
   "source": [
    "# Get links of categories of reviews\n",
    "def get_category_links(base_url):\n",
    "    req = requests.get(base_url)\n",
    "\n",
    "    soup = BeautifulSoup(req.content, 'html.parser')\n",
    "\n",
    "    links = []\n",
    "    for link in soup.findAll('a'):\n",
    "        links.append(base_url+link.get('href'))\n",
    "    return links\n",
    "\n",
    "#get links of review list pages\n",
    "def get_category_pages(links,choice):\n",
    "    pages=[]\n",
    "    link=links[choice]\n",
    "    page = requests.get(link)\n",
    "    soup = BeautifulSoup(page.content, 'html.parser')\n",
    "    pages.append(soup)\n",
    "    return pages \n",
    "\n",
    "#get list of review pages\n",
    "def get_review_pages(pages):\n",
    "    review_pages=[]\n",
    "    soup=pages\n",
    "    \n",
    "    for link in soup[0].findAll('a'):\n",
    "        review_pages.append(base_url+link.get('href'))\n",
    "    return review_pages\n",
    "\n",
    "    \n",
    "#get each review and extract rating stars and review text\n",
    "def read_ratings_and_reviews(review_pages):\n",
    "    df_final=pd.DataFrame(columns=['reviews', 'ratings'])\n",
    "    ratings=[]\n",
    "    reviews=[]\n",
    "    for x in review_pages:\n",
    "        ratings=[]\n",
    "        reviews=[]\n",
    "        try:\n",
    "            req = requests.get(x)\n",
    "            soup = BeautifulSoup(req.content, 'html.parser')\n",
    "        except:\n",
    "            print(\"error connecting\")\n",
    "       \n",
    "        images=soup.find_all('img')\n",
    "        #print([i['src'] for i in images])\n",
    "\n",
    "        for im in images:\n",
    "            rval=(im['src'][-5])\n",
    "            ratings.append(rval)\n",
    "            \n",
    "        ratings=ratings[1:]        \n",
    "        rvt=soup.find_all('p',{'class':'text'})\n",
    "        \n",
    "        for rv in rvt:\n",
    "            reviews.append(rv.text)\n",
    "            \n",
    "        df=pd.DataFrame({'reviews':reviews,'ratings':ratings})\n",
    "        df_final=df_final.append(df)\n",
    "        #print(df)\n",
    "    df_final=df_final.append(df,ignore_index=True)\n",
    "    return df_final\n",
    "    "
   ]
  },
  {
   "cell_type": "code",
   "execution_count": 3,
   "metadata": {
    "ExecuteTime": {
     "end_time": "2019-05-03T14:53:13.575814Z",
     "start_time": "2019-05-03T14:53:13.389672Z"
    }
   },
   "outputs": [],
   "source": [
    "# A function to call the scraping functions in order and store it in csv\n",
    "#Input is a fiename to store the data and choice integer\n",
    "#0-Automotive 1-Bars 2-health and medical 3-Hotel and travel 4-restaurants\n",
    "def collect_data(choice,filename):\n",
    "    base_url=\"http://mlg.ucd.ie/modules/yalp/\"\n",
    "    links=get_category_links(base_url) \n",
    "    pages=get_category_pages(links,choice) \n",
    "    review_pages= get_review_pages(pages) \n",
    "    \n",
    "    #storing positive ratings as 1 and negative as 0\n",
    "    read_data=read_ratings_and_reviews(review_pages) \n",
    "    read_data['ratings'] = read_data['ratings'].astype('float64') \n",
    "    read_data['ratings']=read_data['ratings'].apply(lambda s:  1 if s>3 else 0 )\n",
    "    read_data.to_csv(filename,index=False)\n",
    "       \n",
    "    \n",
    "#A function to remove stop words  \n",
    "def remove_stop_words(data):\n",
    "    pattern = re.compile(r'\\b(' + r'|'.join(stopwords.words('english')) + r')\\b\\s*')\n",
    "    data['reviews']=data['reviews'].apply(lambda s:  pattern.sub('', s) if len(s)>0 else s ) \n",
    "    return data\n",
    "\n",
    "#A function to remove special characters and numbers\n",
    "def remove_numeric_special(data):\n",
    "    data['reviews']=data['reviews'].apply(lambda s:  re.sub('[^A-Za-z]+', ' ', s)  if len(s)>0 else s ) \n",
    "    return data \n",
    "\n",
    "#lemmatizing all the words\n",
    "def lemmatize(data):\n",
    "    lemmatizer = WordNetLemmatizer()       \n",
    "    data['reviews'] = data['reviews'].apply(lambda x: ''.join([lemmatizer.lemmatize(i) for i in x])) \n",
    "    return data"
   ]
  },
  {
   "cell_type": "code",
   "execution_count": 4,
   "metadata": {
    "ExecuteTime": {
     "end_time": "2019-05-03T14:53:28.039529Z",
     "start_time": "2019-05-03T14:53:13.581570Z"
    }
   },
   "outputs": [
    {
     "name": "stdout",
     "output_type": "stream",
     "text": [
      "automotive dataframe \n",
      "                                              reviews  ratings\n",
      "0  I arrived at 3 PM and the dealership closed at...        1\n",
      "1  I dropped my car off on a Wednesday morning fo...        0\n",
      "2  My parents have been buying cars off of Donna ...        1\n",
      "3  I recently bought another car from Donna Dunni...        1\n",
      "4  I had to schedule an appointment due to the ai...        1\n",
      "5  Leslie, Your and your team should review my co...        0\n",
      "6  We called to ask if they had any red Escalades...        0\n",
      "7  Update on my review. Scott the initial salespe...        1\n",
      "8  If you're planning on buying a Cadillac, See L...        1\n",
      "9  Such a great experience! The staff were very n...        1 \n",
      "\n",
      "\n",
      "bars dataframe \n",
      "                                              reviews  ratings\n",
      "0  It would help if the front girl don't just sit...        0\n",
      "1  One star because that's the least amount you c...        0\n",
      "2  Bad time today. Dirty windows, table sticky, h...        0\n",
      "3  My second visit in the last year. Both experie...        0\n",
      "4  Absolutely awful! Took forever to get food, fo...        0\n",
      "5  1.wait time was 30 minutes,then we get to tabl...        0\n",
      "6  The food was terrible and the service was even...        0\n",
      "7  Party of six for my daughters birthday. She re...        0\n",
      "8  I've been twice now in the last couple month, ...        1\n",
      "9  Took my family from out of town here...never a...        0\n"
     ]
    }
   ],
   "source": [
    "#collect data from category automobile and bars\n",
    "#Input is a fiename to store the data and choice integer\n",
    "#0-Automotive 1-Bars 2-health and medical 3-Hotel and travel 4-restaurants\n",
    "#I have chosen Automotive and bars for demonstration\n",
    "collect_data(0,'automobile.csv')\n",
    "collect_data(1,'bars.csv')\n",
    "\n",
    "\n",
    "#read the data which was scraped and stored in the  csv files\n",
    "automobile_data=pd.read_csv('automobile.csv')\n",
    "bars_data=pd.read_csv('bars.csv') \n",
    "\n",
    "print(\"automotive dataframe \\n\",automobile_data.head(10),'\\n\\n') \n",
    "\n",
    "print(\"bars dataframe \\n\",bars_data.head(10)) \n"
   ]
  },
  {
   "cell_type": "markdown",
   "metadata": {},
   "source": [
    "## Task2\n",
    "\n",
    "### 1. convert data into numerical representsion suitable for classifcation\n",
    "\n",
    "### 2. Build a classsification model to classify positive or negative review\n",
    "\n",
    "### 3. Test the predictions using appropriate evaluation strategy\n"
   ]
  },
  {
   "cell_type": "code",
   "execution_count": 5,
   "metadata": {
    "ExecuteTime": {
     "end_time": "2019-05-03T14:53:37.760511Z",
     "start_time": "2019-05-03T14:53:28.043100Z"
    }
   },
   "outputs": [],
   "source": [
    "\n",
    "#combine the two datasets  for preprocessing\n",
    "combined_data=automobile_data.append(bars_data)\n",
    "\n",
    "#remove numeric and special characters\n",
    "combined_data=remove_numeric_special(combined_data)\n",
    "\n",
    "#remove stop words\n",
    "combined_data=remove_stop_words(combined_data)\n",
    "\n",
    "#lemmatize the given data\n",
    "combined_data=lemmatize(combined_data)"
   ]
  },
  {
   "cell_type": "code",
   "execution_count": 6,
   "metadata": {
    "ExecuteTime": {
     "end_time": "2019-05-03T14:53:38.054805Z",
     "start_time": "2019-05-03T14:53:37.762465Z"
    }
   },
   "outputs": [],
   "source": [
    "# convert the text data into sparse matrix which is fed to machine learning model\n",
    "vectorizer = CountVectorizer() \n",
    "corpus = combined_data['reviews']\n",
    "X = vectorizer.fit_transform(corpus)\n",
    "new_x_data=X[ :len(combined_data):]"
   ]
  },
  {
   "cell_type": "code",
   "execution_count": 8,
   "metadata": {
    "ExecuteTime": {
     "end_time": "2019-05-03T14:53:38.314604Z",
     "start_time": "2019-05-03T14:53:38.072985Z"
    }
   },
   "outputs": [],
   "source": [
    "# divide the data back to its original dimensions i.e seperate  combined data into its respective category\n",
    "auto_data=new_x_data[:len(automobile_data)]\n",
    "bar_data=new_x_data[len(automobile_data):]"
   ]
  },
  {
   "cell_type": "code",
   "execution_count": 9,
   "metadata": {
    "ExecuteTime": {
     "end_time": "2019-05-03T14:53:38.502872Z",
     "start_time": "2019-05-03T14:53:38.319761Z"
    }
   },
   "outputs": [],
   "source": [
    "#split the automotive review data into training and testing\n",
    "X_train_auto, X_test_auto, y_train_auto, y_test_auto = train_test_split(  auto_data, automobile_data['ratings'], test_size=0.33, random_state=42)"
   ]
  },
  {
   "cell_type": "code",
   "execution_count": 10,
   "metadata": {
    "ExecuteTime": {
     "end_time": "2019-05-03T14:54:06.463863Z",
     "start_time": "2019-05-03T14:53:38.504861Z"
    }
   },
   "outputs": [
    {
     "name": "stdout",
     "output_type": "stream",
     "text": [
      "Fitting 3 folds for each of 12 candidates, totalling 36 fits\n"
     ]
    },
    {
     "name": "stderr",
     "output_type": "stream",
     "text": [
      "[Parallel(n_jobs=-1)]: Using backend LokyBackend with 4 concurrent workers.\n",
      "[Parallel(n_jobs=-1)]: Done  36 out of  36 | elapsed:   25.9s finished\n"
     ]
    },
    {
     "name": "stdout",
     "output_type": "stream",
     "text": [
      "Accuracy score of Random Forest classifier for automotive review data is  0.8405797101449275\n"
     ]
    }
   ],
   "source": [
    "#Create a randomforest classifier\n",
    "\n",
    "# Create the parameter grid based on the results of random search \n",
    "param_grid = {\n",
    "    'bootstrap': [True],\n",
    "    'max_depth': [30,40,50],\n",
    "    'n_estimators': [100, 200, 300, 500]\n",
    "}\n",
    "\n",
    "rf = RandomForestClassifier()\n",
    "# Instantiate the grid search model\n",
    "grid_search = GridSearchCV(estimator = rf, param_grid = param_grid, \n",
    "                          cv = 3, n_jobs = -1, verbose = 2)\n",
    "grid_search.fit(X_train_auto, y_train_auto) \n",
    "randomforestmodel = grid_search.best_estimator_\n",
    "\n",
    " \n",
    "#train the model with train set\n",
    "randomforestmodel.fit(X_train_auto, y_train_auto) \n",
    "\n",
    "#predict the model using test set\n",
    "y_pred = randomforestmodel.predict(X_test_auto)\n",
    "\n",
    "#measure accuracy\n",
    "auto_acc=accuracy_score(y_test_auto, y_pred)\n",
    "print(\"Accuracy score of Random Forest classifier for automotive review data is \", auto_acc)"
   ]
  },
  {
   "cell_type": "code",
   "execution_count": 11,
   "metadata": {
    "ExecuteTime": {
     "end_time": "2019-05-03T14:54:06.792598Z",
     "start_time": "2019-05-03T14:54:06.478580Z"
    }
   },
   "outputs": [
    {
     "name": "stdout",
     "output_type": "stream",
     "text": [
      "              precision    recall  f1-score   support\n",
      "\n",
      "           0       0.91      0.56      0.69       155\n",
      "           1       0.82      0.97      0.89       328\n",
      "\n",
      "   micro avg       0.84      0.84      0.84       483\n",
      "   macro avg       0.87      0.77      0.79       483\n",
      "weighted avg       0.85      0.84      0.83       483\n",
      "\n",
      "Confusion Matrix\n"
     ]
    },
    {
     "data": {
      "text/html": [
       "<div>\n",
       "<style scoped>\n",
       "    .dataframe tbody tr th:only-of-type {\n",
       "        vertical-align: middle;\n",
       "    }\n",
       "\n",
       "    .dataframe tbody tr th {\n",
       "        vertical-align: top;\n",
       "    }\n",
       "\n",
       "    .dataframe thead th {\n",
       "        text-align: right;\n",
       "    }\n",
       "</style>\n",
       "<table border=\"1\" class=\"dataframe\">\n",
       "  <thead>\n",
       "    <tr style=\"text-align: right;\">\n",
       "      <th>Predicted</th>\n",
       "      <th>0</th>\n",
       "      <th>1</th>\n",
       "      <th>All</th>\n",
       "    </tr>\n",
       "    <tr>\n",
       "      <th>True</th>\n",
       "      <th></th>\n",
       "      <th></th>\n",
       "      <th></th>\n",
       "    </tr>\n",
       "  </thead>\n",
       "  <tbody>\n",
       "    <tr>\n",
       "      <th>0</th>\n",
       "      <td>87</td>\n",
       "      <td>68</td>\n",
       "      <td>155</td>\n",
       "    </tr>\n",
       "    <tr>\n",
       "      <th>1</th>\n",
       "      <td>9</td>\n",
       "      <td>319</td>\n",
       "      <td>328</td>\n",
       "    </tr>\n",
       "    <tr>\n",
       "      <th>All</th>\n",
       "      <td>96</td>\n",
       "      <td>387</td>\n",
       "      <td>483</td>\n",
       "    </tr>\n",
       "  </tbody>\n",
       "</table>\n",
       "</div>"
      ],
      "text/plain": [
       "Predicted   0    1  All\n",
       "True                   \n",
       "0          87   68  155\n",
       "1           9  319  328\n",
       "All        96  387  483"
      ]
     },
     "metadata": {},
     "output_type": "display_data"
    }
   ],
   "source": [
    "print(metrics.classification_report(y_test_auto, y_pred))\n",
    "print(\"Confusion Matrix\")\n",
    "display(pd.crosstab(np.array(y_test_auto), y_pred, rownames=['True'], colnames=['Predicted'], margins=True))"
   ]
  },
  {
   "cell_type": "code",
   "execution_count": 12,
   "metadata": {
    "ExecuteTime": {
     "end_time": "2019-05-03T14:54:06.810481Z",
     "start_time": "2019-05-03T14:54:06.796964Z"
    }
   },
   "outputs": [],
   "source": [
    "\n",
    "#split the bar review data into train and split\n",
    "X_train_bar, X_test_bar, y_train_bar, y_test_bar = train_test_split(  bar_data, bars_data['ratings'], test_size=0.33, random_state=42)"
   ]
  },
  {
   "cell_type": "code",
   "execution_count": 13,
   "metadata": {
    "ExecuteTime": {
     "end_time": "2019-05-03T14:54:08.006464Z",
     "start_time": "2019-05-03T14:54:06.821000Z"
    }
   },
   "outputs": [
    {
     "name": "stdout",
     "output_type": "stream",
     "text": [
      "Accuracy score of SVM classifier for bars review data is  0.8475609756097561\n"
     ]
    }
   ],
   "source": [
    "#Create a svm Classifier\n",
    "svmclassifier = svm.SVC(kernel='linear') \n",
    "\n",
    "#Train the model using the training sets\n",
    "svmclassifier.fit(X_train_bar, y_train_bar)\n",
    "\n",
    "#Predict the response for test dataset\n",
    "y_pred = svmclassifier.predict(X_test_bar)\n",
    "\n",
    "bar_acc=accuracy_score(y_test_bar, y_pred)\n",
    "print(\"Accuracy score of SVM classifier for bars review data is \", bar_acc)"
   ]
  },
  {
   "cell_type": "code",
   "execution_count": 14,
   "metadata": {
    "ExecuteTime": {
     "end_time": "2019-05-03T14:54:08.217917Z",
     "start_time": "2019-05-03T14:54:08.015751Z"
    }
   },
   "outputs": [
    {
     "name": "stdout",
     "output_type": "stream",
     "text": [
      "              precision    recall  f1-score   support\n",
      "\n",
      "           0       0.80      0.79      0.80       185\n",
      "           1       0.88      0.88      0.88       307\n",
      "\n",
      "   micro avg       0.85      0.85      0.85       492\n",
      "   macro avg       0.84      0.84      0.84       492\n",
      "weighted avg       0.85      0.85      0.85       492\n",
      "\n",
      "Confusion Matrix\n"
     ]
    },
    {
     "data": {
      "text/html": [
       "<div>\n",
       "<style scoped>\n",
       "    .dataframe tbody tr th:only-of-type {\n",
       "        vertical-align: middle;\n",
       "    }\n",
       "\n",
       "    .dataframe tbody tr th {\n",
       "        vertical-align: top;\n",
       "    }\n",
       "\n",
       "    .dataframe thead th {\n",
       "        text-align: right;\n",
       "    }\n",
       "</style>\n",
       "<table border=\"1\" class=\"dataframe\">\n",
       "  <thead>\n",
       "    <tr style=\"text-align: right;\">\n",
       "      <th>Predicted</th>\n",
       "      <th>0</th>\n",
       "      <th>1</th>\n",
       "      <th>All</th>\n",
       "    </tr>\n",
       "    <tr>\n",
       "      <th>True</th>\n",
       "      <th></th>\n",
       "      <th></th>\n",
       "      <th></th>\n",
       "    </tr>\n",
       "  </thead>\n",
       "  <tbody>\n",
       "    <tr>\n",
       "      <th>0</th>\n",
       "      <td>147</td>\n",
       "      <td>38</td>\n",
       "      <td>185</td>\n",
       "    </tr>\n",
       "    <tr>\n",
       "      <th>1</th>\n",
       "      <td>37</td>\n",
       "      <td>270</td>\n",
       "      <td>307</td>\n",
       "    </tr>\n",
       "    <tr>\n",
       "      <th>All</th>\n",
       "      <td>184</td>\n",
       "      <td>308</td>\n",
       "      <td>492</td>\n",
       "    </tr>\n",
       "  </tbody>\n",
       "</table>\n",
       "</div>"
      ],
      "text/plain": [
       "Predicted    0    1  All\n",
       "True                    \n",
       "0          147   38  185\n",
       "1           37  270  307\n",
       "All        184  308  492"
      ]
     },
     "metadata": {},
     "output_type": "display_data"
    }
   ],
   "source": [
    "print(metrics.classification_report(y_test_bar, y_pred))\n",
    "print(\"Confusion Matrix\")\n",
    "display(pd.crosstab(np.array(y_test_bar), y_pred, rownames=['True'], colnames=['Predicted'], margins=True))"
   ]
  },
  {
   "cell_type": "markdown",
   "metadata": {},
   "source": [
    "# Task 3\n",
    "\n",
    "### 1. Train a classification model on the data from “Category A”, and evaluate its performance on the data from “Category B”.\n",
    "### 2. Train a classification model on the data from “Category B”, and evaluate its performance on the data from “Category A”.\n"
   ]
  },
  {
   "cell_type": "markdown",
   "metadata": {},
   "source": [
    "\n",
    " In this experiment, I have built an SVM classifier and trained it on bars data. I will predict the automotive review data with this model and check for the accuracy_score and f-1 score"
   ]
  },
  {
   "cell_type": "code",
   "execution_count": 15,
   "metadata": {
    "ExecuteTime": {
     "end_time": "2019-05-03T14:54:08.592776Z",
     "start_time": "2019-05-03T14:54:08.223912Z"
    }
   },
   "outputs": [
    {
     "data": {
      "text/plain": [
       "0.7660455486542443"
      ]
     },
     "execution_count": 15,
     "metadata": {},
     "output_type": "execute_result"
    }
   ],
   "source": [
    "# predict the automotive data on model which was trained on bars data\n",
    "y_pred = svmclassifier.predict(X_test_auto)\n",
    "accuracy_score(y_test_auto, y_pred)"
   ]
  },
  {
   "cell_type": "code",
   "execution_count": 16,
   "metadata": {
    "ExecuteTime": {
     "end_time": "2019-05-03T14:54:08.777678Z",
     "start_time": "2019-05-03T14:54:08.598153Z"
    }
   },
   "outputs": [
    {
     "name": "stdout",
     "output_type": "stream",
     "text": [
      "              precision    recall  f1-score   support\n",
      "\n",
      "           0       0.60      0.85      0.70       155\n",
      "           1       0.91      0.73      0.81       328\n",
      "\n",
      "   micro avg       0.77      0.77      0.77       483\n",
      "   macro avg       0.75      0.79      0.75       483\n",
      "weighted avg       0.81      0.77      0.77       483\n",
      "\n",
      "Confusion Matrix\n"
     ]
    },
    {
     "data": {
      "text/html": [
       "<div>\n",
       "<style scoped>\n",
       "    .dataframe tbody tr th:only-of-type {\n",
       "        vertical-align: middle;\n",
       "    }\n",
       "\n",
       "    .dataframe tbody tr th {\n",
       "        vertical-align: top;\n",
       "    }\n",
       "\n",
       "    .dataframe thead th {\n",
       "        text-align: right;\n",
       "    }\n",
       "</style>\n",
       "<table border=\"1\" class=\"dataframe\">\n",
       "  <thead>\n",
       "    <tr style=\"text-align: right;\">\n",
       "      <th>Predicted</th>\n",
       "      <th>0</th>\n",
       "      <th>1</th>\n",
       "      <th>All</th>\n",
       "    </tr>\n",
       "    <tr>\n",
       "      <th>True</th>\n",
       "      <th></th>\n",
       "      <th></th>\n",
       "      <th></th>\n",
       "    </tr>\n",
       "  </thead>\n",
       "  <tbody>\n",
       "    <tr>\n",
       "      <th>0</th>\n",
       "      <td>131</td>\n",
       "      <td>24</td>\n",
       "      <td>155</td>\n",
       "    </tr>\n",
       "    <tr>\n",
       "      <th>1</th>\n",
       "      <td>89</td>\n",
       "      <td>239</td>\n",
       "      <td>328</td>\n",
       "    </tr>\n",
       "    <tr>\n",
       "      <th>All</th>\n",
       "      <td>220</td>\n",
       "      <td>263</td>\n",
       "      <td>483</td>\n",
       "    </tr>\n",
       "  </tbody>\n",
       "</table>\n",
       "</div>"
      ],
      "text/plain": [
       "Predicted    0    1  All\n",
       "True                    \n",
       "0          131   24  155\n",
       "1           89  239  328\n",
       "All        220  263  483"
      ]
     },
     "metadata": {},
     "output_type": "display_data"
    }
   ],
   "source": [
    "print(metrics.classification_report(y_test_auto, y_pred))\n",
    "print(\"Confusion Matrix\")\n",
    "display(pd.crosstab(np.array(y_test_auto), y_pred, rownames=['True'], colnames=['Predicted'], margins=True))"
   ]
  },
  {
   "cell_type": "markdown",
   "metadata": {},
   "source": [
    " In this experiment, I have built a randomforest classifier and trained it on automotive data. I will predict the bars review data with this model and check for the accuracy_score and f-1 score\n"
   ]
  },
  {
   "cell_type": "code",
   "execution_count": 17,
   "metadata": {
    "ExecuteTime": {
     "end_time": "2019-05-03T14:54:08.878752Z",
     "start_time": "2019-05-03T14:54:08.785914Z"
    }
   },
   "outputs": [
    {
     "data": {
      "text/plain": [
       "0.7215447154471545"
      ]
     },
     "execution_count": 17,
     "metadata": {},
     "output_type": "execute_result"
    }
   ],
   "source": [
    "# predict the automotive data on model which was trained on bars data\n",
    "y_pred = randomforestmodel.predict(X_test_bar)\n",
    "accuracy_score(y_test_bar, y_pred)"
   ]
  },
  {
   "cell_type": "code",
   "execution_count": 18,
   "metadata": {
    "ExecuteTime": {
     "end_time": "2019-05-03T14:54:09.118915Z",
     "start_time": "2019-05-03T14:54:08.883563Z"
    }
   },
   "outputs": [
    {
     "name": "stdout",
     "output_type": "stream",
     "text": [
      "              precision    recall  f1-score   support\n",
      "\n",
      "           0       0.86      0.31      0.45       185\n",
      "           1       0.70      0.97      0.81       307\n",
      "\n",
      "   micro avg       0.72      0.72      0.72       492\n",
      "   macro avg       0.78      0.64      0.63       492\n",
      "weighted avg       0.76      0.72      0.68       492\n",
      "\n",
      "Confusion Matrix\n"
     ]
    },
    {
     "data": {
      "text/html": [
       "<div>\n",
       "<style scoped>\n",
       "    .dataframe tbody tr th:only-of-type {\n",
       "        vertical-align: middle;\n",
       "    }\n",
       "\n",
       "    .dataframe tbody tr th {\n",
       "        vertical-align: top;\n",
       "    }\n",
       "\n",
       "    .dataframe thead th {\n",
       "        text-align: right;\n",
       "    }\n",
       "</style>\n",
       "<table border=\"1\" class=\"dataframe\">\n",
       "  <thead>\n",
       "    <tr style=\"text-align: right;\">\n",
       "      <th>Predicted</th>\n",
       "      <th>0</th>\n",
       "      <th>1</th>\n",
       "      <th>All</th>\n",
       "    </tr>\n",
       "    <tr>\n",
       "      <th>True</th>\n",
       "      <th></th>\n",
       "      <th></th>\n",
       "      <th></th>\n",
       "    </tr>\n",
       "  </thead>\n",
       "  <tbody>\n",
       "    <tr>\n",
       "      <th>0</th>\n",
       "      <td>57</td>\n",
       "      <td>128</td>\n",
       "      <td>185</td>\n",
       "    </tr>\n",
       "    <tr>\n",
       "      <th>1</th>\n",
       "      <td>9</td>\n",
       "      <td>298</td>\n",
       "      <td>307</td>\n",
       "    </tr>\n",
       "    <tr>\n",
       "      <th>All</th>\n",
       "      <td>66</td>\n",
       "      <td>426</td>\n",
       "      <td>492</td>\n",
       "    </tr>\n",
       "  </tbody>\n",
       "</table>\n",
       "</div>"
      ],
      "text/plain": [
       "Predicted   0    1  All\n",
       "True                   \n",
       "0          57  128  185\n",
       "1           9  298  307\n",
       "All        66  426  492"
      ]
     },
     "metadata": {},
     "output_type": "display_data"
    }
   ],
   "source": [
    "print(metrics.classification_report(y_test_bar, y_pred))\n",
    "print(\"Confusion Matrix\")\n",
    "display(pd.crosstab(np.array(y_test_bar), y_pred, rownames=['True'], colnames=['Predicted'], margins=True))"
   ]
  },
  {
   "cell_type": "code",
   "execution_count": 19,
   "metadata": {
    "ExecuteTime": {
     "end_time": "2019-05-03T14:54:09.685317Z",
     "start_time": "2019-05-03T14:54:09.124100Z"
    },
    "scrolled": true
   },
   "outputs": [
    {
     "data": {
      "image/png": "[encoded data removed]",
      "text/plain": [
       "<Figure size 432x288 with 1 Axes>"
      ]
     },
     "metadata": {
      "needs_background": "light"
     },
     "output_type": "display_data"
    }
   ],
   "source": [
    "\n",
    "objects = ('RF-Auto', 'SVM-Bars' ,'RF-bars(cross)', 'SVM-Auto(cross)')\n",
    "y_pos = np.arange(len(objects))\n",
    "performance = [0.81, 0.85 ,0.67,0.77 ]\n",
    "\n",
    "plt.bar(y_pos, performance, align='center', alpha=0.5)\n",
    "plt.xticks(y_pos, objects) \n",
    "plt.ylabel('f1-score')\n",
    "plt.title('Comparision of models') \n",
    "\n",
    "\n",
    "\n",
    "plt.show()"
   ]
  },
  {
   "cell_type": "markdown",
   "metadata": {},
   "source": [
    "## Summary"
   ]
  },
  {
   "cell_type": "markdown",
   "metadata": {},
   "source": [
    "I scraped the review text and ratings of automotive and bars reviews using beautiful soup, and stored the results in a dataframe. reviews with 4 and 5 stars are considered postive and the remaining are negative, which is represented by 1 and 0 respectively.\n",
    "\n",
    "After removing all numerical and special characters. Stop words are removed, and the text is lemmatized.\n",
    "\n",
    "I converted the text data into sparse matrix using CountVectrorizer. Now both train data and label are in numerical form, ready to be fed to machine learning algorithms.\n",
    "\n",
    "I used a randomforest classifier with gridCV search for tuning parameters, with the best model, I trained automotive review data, and tested with the test data to get an f1-score of 0.81.\n",
    "\n",
    "I used an SVM classifier, I trained bars review data, and tested with the test data to get an f1-score of 0.85.\n",
    "\n",
    "In first experiment, I tested the bars data on Randomforestclassifier trained on automotive data, f1-score obtained was 0.67.\n",
    "\n",
    "In second experiment, I tested the automotive data on SVM classifier trained on bars data, f1-score obtained was 0.77.\n"
   ]
  },
  {
   "cell_type": "markdown",
   "metadata": {},
   "source": [
    "## Conclusion"
   ]
  },
  {
   "cell_type": "markdown",
   "metadata": {},
   "source": [
    "Text classification tasks require a good amount of pre-processing, to make the data fit for using them in machine learning models.\n",
    "\n",
    "Models perform well on the test data from the same data source. Performance after category swap decreases, but still good enough."
   ]
  }
 ],
 "metadata": {
  "kernelspec": {
   "display_name": "Python 3",
   "language": "python",
   "name": "python3"
  },
  "language_info": {
   "codemirror_mode": {
    "name": "ipython",
    "version": 3
   },
   "file_extension": ".py",
   "mimetype": "text/x-python",
   "name": "python",
   "nbconvert_exporter": "python",
   "pygments_lexer": "ipython3",
   "version": "3.7.3"
  }
 },
 "nbformat": 4,
 "nbformat_minor": 2
}
